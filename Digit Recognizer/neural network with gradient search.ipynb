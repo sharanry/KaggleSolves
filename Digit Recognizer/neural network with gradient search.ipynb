{
 "cells": [
  {
   "cell_type": "code",
   "execution_count": 1,
   "metadata": {
    "collapsed": true
   },
   "outputs": [],
   "source": [
    "import matplotlib.pyplot as plt\n",
    "import numpy as np \n",
    "import pandas as pd\n",
    "import matplotlib.cm as cm\n",
    "%matplotlib inline  \n",
    "from sklearn.decomposition import PCA\n",
    "\n",
    "\n",
    "# image number to output\n",
    "IMAGE_TO_DISPLAY = 20212"
   ]
  },
  {
   "cell_type": "markdown",
   "metadata": {},
   "source": [
    "Accessing the data."
   ]
  },
  {
   "cell_type": "code",
   "execution_count": 2,
   "metadata": {
    "scrolled": true
   },
   "outputs": [
    {
     "name": "stdout",
     "output_type": "stream",
     "text": [
      "data(42000,785)\n",
      "   label  pixel0  pixel1  pixel2  pixel3  pixel4  pixel5  pixel6  pixel7  \\\n",
      "0      1       0       0       0       0       0       0       0       0   \n",
      "1      0       0       0       0       0       0       0       0       0   \n",
      "2      1       0       0       0       0       0       0       0       0   \n",
      "3      4       0       0       0       0       0       0       0       0   \n",
      "4      0       0       0       0       0       0       0       0       0   \n",
      "\n",
      "   pixel8    ...     pixel774  pixel775  pixel776  pixel777  pixel778  \\\n",
      "0       0    ...            0         0         0         0         0   \n",
      "1       0    ...            0         0         0         0         0   \n",
      "2       0    ...            0         0         0         0         0   \n",
      "3       0    ...            0         0         0         0         0   \n",
      "4       0    ...            0         0         0         0         0   \n",
      "\n",
      "   pixel779  pixel780  pixel781  pixel782  pixel783  \n",
      "0         0         0         0         0         0  \n",
      "1         0         0         0         0         0  \n",
      "2         0         0         0         0         0  \n",
      "3         0         0         0         0         0  \n",
      "4         0         0         0         0         0  \n",
      "\n",
      "[5 rows x 785 columns]\n"
     ]
    }
   ],
   "source": [
    "data = pd.read_csv('train.csv')\n",
    "data_t = pd.read_csv('test.csv')\n",
    "\n",
    "print('data({0[0]},{0[1]})'.format(data.shape))\n",
    "print (data.head())"
   ]
  },
  {
   "cell_type": "code",
   "execution_count": 3,
   "metadata": {},
   "outputs": [
    {
     "name": "stdout",
     "output_type": "stream",
     "text": [
      "images(42000,784)\n",
      "images_t(28000,784)\n"
     ]
    }
   ],
   "source": [
    "images = data.iloc[:,1:].values\n",
    "images_t = data_t.iloc[:,:].values \n",
    "images = images.astype(np.float)\n",
    "images_t = images_t.astype(np.float)\n",
    "images = np.multiply(images, 1.0 / 255.0)\n",
    "images_t = np.multiply(images_t, 1.0 / 255.0)\n",
    "print('images({0[0]},{0[1]})'.format(images.shape))\n",
    "print('images_t({0[0]},{0[1]})'.format(images_t.shape))\n"
   ]
  },
  {
   "cell_type": "code",
   "execution_count": 4,
   "metadata": {},
   "outputs": [
    {
     "data": {
      "image/png": "[encoded data removed]",
      "text/plain": [
       "<matplotlib.figure.Figure at 0x7f3fe441af10>"
      ]
     },
     "metadata": {},
     "output_type": "display_data"
    }
   ],
   "source": [
    "# display image\n",
    "def display(img):\n",
    "    \n",
    "    # (784) => (28,28)\n",
    "    one_image = img.reshape(28,28)\n",
    "    \n",
    "    plt.axis('off')\n",
    "    plt.imshow(one_image, cmap=cm.binary)\n",
    "\n",
    "# output image     \n",
    "display(images[10])"
   ]
  },
  {
   "cell_type": "code",
   "execution_count": 5,
   "metadata": {},
   "outputs": [
    {
     "name": "stdout",
     "output_type": "stream",
     "text": [
      "42000\n"
     ]
    }
   ],
   "source": [
    "X = images\n",
    "y = data.iloc[:,0].values\n",
    "print(y.shape[0])"
   ]
  },
  {
   "cell_type": "code",
   "execution_count": 33,
   "metadata": {},
   "outputs": [
    {
     "name": "stdout",
     "output_type": "stream",
     "text": [
      "((42000, 331), 0.0011561181138151431)\n"
     ]
    }
   ],
   "source": [
    "pca = PCA(n_components=0.99,svd_solver ='auto', whiten = False)\n",
    "pca.fit(X)\n",
    "X_ = pca.transform(X)\n",
    "print(X_.shape, pca.noise_variance_)"
   ]
  },
  {
   "cell_type": "code",
   "execution_count": 34,
   "metadata": {},
   "outputs": [
    {
     "data": {
      "image/png": "[encoded data removed]",
      "text/plain": [
       "<matplotlib.figure.Figure at 0x7f3fbc418790>"
      ]
     },
     "metadata": {},
     "output_type": "display_data"
    }
   ],
   "source": [
    "\n",
    "\n",
    "# output image\n",
    "test = pca.inverse_transform(X_[10])\n",
    "display(test)"
   ]
  },
  {
   "cell_type": "code",
   "execution_count": 39,
   "metadata": {},
   "outputs": [
    {
     "name": "stdout",
     "output_type": "stream",
     "text": [
      "Iteration 1, loss = 0.53097495\n",
      "Iteration 2, loss = 0.28322655\n",
      "Iteration 3, loss = 0.24014520\n",
      "Iteration 4, loss = 0.21619616\n",
      "Iteration 5, loss = 0.19932294\n",
      "Iteration 6, loss = 0.18956469\n",
      "Iteration 7, loss = 0.18037583\n",
      "Iteration 8, loss = 0.17374693\n",
      "Iteration 9, loss = 0.17635411\n",
      "Iteration 10, loss = 0.17028062\n",
      "Iteration 11, loss = 0.16975902\n",
      "Iteration 12, loss = 0.16481201\n",
      "Iteration 13, loss = 0.16652783\n",
      "Iteration 14, loss = 0.15821855\n",
      "Iteration 15, loss = 0.15906673\n",
      "Iteration 16, loss = 0.15833132\n",
      "Iteration 17, loss = 0.15731730\n",
      "Training loss did not improve more than tol=0.001000 for two consecutive epochs. Stopping.\n",
      "Iteration 1, loss = 0.52114930\n",
      "Iteration 2, loss = 0.27723775\n",
      "Iteration 3, loss = 0.23783267\n",
      "Iteration 4, loss = 0.21381275\n",
      "Iteration 5, loss = 0.19601636\n",
      "Iteration 6, loss = 0.18637006\n",
      "Iteration 7, loss = 0.17518452\n",
      "Iteration 8, loss = 0.25288974\n",
      "Iteration 9, loss = 0.17759994\n",
      "Iteration 10, loss = 0.17552935\n",
      "Training loss did not improve more than tol=0.001000 for two consecutive epochs. Stopping.\n",
      "Iteration 1, loss = 0.60226849\n",
      "Iteration 2, loss = 0.36769850\n",
      "Iteration 3, loss = 0.33361233\n",
      "Iteration 4, loss = 0.31414920\n",
      "Iteration 5, loss = 0.30063047\n",
      "Iteration 6, loss = 0.29365145\n",
      "Iteration 7, loss = 0.28185420\n",
      "Iteration 8, loss = 0.27787808\n",
      "Iteration 9, loss = 0.28017909\n",
      "Iteration 10, loss = 0.27278596\n",
      "Iteration 11, loss = 0.27026896\n",
      "Iteration 12, loss = 0.26874610\n",
      "Iteration 13, loss = 0.26473947\n",
      "Iteration 14, loss = 0.26134814\n",
      "Iteration 15, loss = 0.25993518\n",
      "Iteration 16, loss = 0.25788364\n",
      "Iteration 17, loss = 0.25851643\n",
      "Iteration 18, loss = 0.26288637\n",
      "Iteration 19, loss = 0.25910010\n",
      "Training loss did not improve more than tol=0.001000 for two consecutive epochs. Stopping.\n",
      "Iteration 1, loss = 0.59448473\n",
      "Iteration 2, loss = 0.36180479\n",
      "Iteration 3, loss = 0.33317718\n",
      "Iteration 4, loss = 0.31175434\n",
      "Iteration 5, loss = 0.29607978\n",
      "Iteration 6, loss = 0.28923805\n",
      "Iteration 7, loss = 0.27651365\n",
      "Iteration 8, loss = 0.37581228\n",
      "Iteration 9, loss = 0.27821855\n",
      "Iteration 10, loss = 0.27904395\n",
      "Training loss did not improve more than tol=0.001000 for two consecutive epochs. Stopping.\n",
      "Iteration 1, loss = 0.76312029\n",
      "Iteration 2, loss = 0.53832372\n",
      "Iteration 3, loss = 0.51467317\n",
      "Iteration 4, loss = 0.50083003\n",
      "Iteration 5, loss = 0.48816084\n",
      "Iteration 6, loss = 0.48176402\n",
      "Iteration 7, loss = 0.47473338\n",
      "Iteration 8, loss = 0.47137172\n",
      "Iteration 9, loss = 0.47324290\n",
      "Iteration 10, loss = 0.46829910\n",
      "Iteration 11, loss = 0.46733729\n",
      "Iteration 12, loss = 0.46578250\n",
      "Iteration 13, loss = 0.46288391\n",
      "Iteration 14, loss = 0.46112650\n",
      "Iteration 15, loss = 0.46568764\n",
      "Iteration 16, loss = 0.46151196\n",
      "Iteration 17, loss = 0.46118098\n",
      "Training loss did not improve more than tol=0.001000 for two consecutive epochs. Stopping.\n",
      "Iteration 1, loss = 0.76043366\n",
      "Iteration 2, loss = 0.54797143\n",
      "Iteration 3, loss = 0.53313287\n",
      "Iteration 4, loss = 0.52267594\n",
      "Iteration 5, loss = 0.51127467\n",
      "Iteration 6, loss = 0.50839839\n",
      "Iteration 7, loss = 0.50088092\n",
      "Iteration 8, loss = 0.55786028\n",
      "Iteration 9, loss = 0.49195359\n",
      "Iteration 10, loss = 0.50413164\n",
      "Iteration 11, loss = 0.54696779\n",
      "Iteration 12, loss = 0.48550990\n",
      "Iteration 13, loss = 0.48347778\n",
      "Iteration 14, loss = 0.48948745\n",
      "Iteration 15, loss = 0.48018246\n",
      "Iteration 16, loss = 0.48370366\n",
      "Iteration 17, loss = 0.47974817\n",
      "Iteration 18, loss = 0.62543905\n",
      "Training loss did not improve more than tol=0.001000 for two consecutive epochs. Stopping.\n",
      "Iteration 1, loss = 1.06654581\n",
      "Iteration 2, loss = 0.83573927\n",
      "Iteration 3, loss = 0.82169308\n",
      "Iteration 4, loss = 0.81341818\n",
      "Iteration 5, loss = 0.80670569\n",
      "Iteration 6, loss = 0.80445930\n",
      "Iteration 7, loss = 0.80434118\n",
      "Iteration 8, loss = 0.80058998\n",
      "Iteration 9, loss = 0.80059799\n",
      "Iteration 10, loss = 0.80059556\n",
      "Iteration 11, loss = 0.80134086\n",
      "Training loss did not improve more than tol=0.001000 for two consecutive epochs. Stopping.\n",
      "Iteration 1, loss = 1.06699955\n",
      "Iteration 2, loss = 0.89452909\n",
      "Iteration 3, loss = 0.88564639\n",
      "Iteration 4, loss = 0.88644278\n",
      "Iteration 5, loss = 0.88340106\n",
      "Iteration 6, loss = 0.87620431\n",
      "Iteration 7, loss = 0.87519214\n",
      "Iteration 8, loss = 0.91270230\n",
      "Iteration 9, loss = 0.87595873\n",
      "Iteration 10, loss = 0.87963682\n",
      "Training loss did not improve more than tol=0.001000 for two consecutive epochs. Stopping.\n",
      "Iteration 1, loss = 1.75087350\n",
      "Iteration 2, loss = 1.43911106\n",
      "Iteration 3, loss = 1.42681612\n",
      "Iteration 4, loss = 1.41776720\n",
      "Iteration 5, loss = 1.41397049\n",
      "Iteration 6, loss = 1.41563852\n",
      "Iteration 7, loss = 1.41717746\n",
      "Iteration 8, loss = 1.41560551\n",
      "Training loss did not improve more than tol=0.001000 for two consecutive epochs. Stopping.\n",
      "Iteration 1, loss = 1.75303397\n",
      "Iteration 2, loss = 1.63764283\n",
      "Iteration 3, loss = 1.64891504\n",
      "Iteration 4, loss = 1.65557333\n",
      "Iteration 5, loss = 1.65123338\n",
      "Training loss did not improve more than tol=0.001000 for two consecutive epochs. Stopping.\n",
      "Iteration 1, loss = 0.52898421\n",
      "Iteration 2, loss = 0.20707506\n",
      "Iteration 3, loss = 0.16636404\n",
      "Iteration 4, loss = 0.15264049\n",
      "Iteration 5, loss = 0.14495359\n",
      "Iteration 6, loss = 0.14668877\n",
      "Iteration 7, loss = 0.14053274\n",
      "Iteration 8, loss = 0.13058061\n",
      "Iteration 9, loss = 0.13515124\n",
      "Iteration 10, loss = 0.13887117\n",
      "Iteration 11, loss = 0.14123839\n",
      "Training loss did not improve more than tol=0.001000 for two consecutive epochs. Stopping.\n",
      "Iteration 1, loss = 0.52849753\n",
      "Iteration 2, loss = 0.20921509\n",
      "Iteration 3, loss = 0.17049779\n",
      "Iteration 4, loss = 0.16059614\n",
      "Iteration 5, loss = 0.13919216\n",
      "Iteration 6, loss = 0.13905053\n",
      "Iteration 7, loss = 0.12998601\n",
      "Iteration 8, loss = 0.22734132\n",
      "Iteration 9, loss = 0.14748353\n",
      "Iteration 10, loss = 0.12779392\n",
      "Iteration 11, loss = 0.12166837\n",
      "Iteration 12, loss = 0.11544066\n",
      "Iteration 13, loss = 0.12004795\n",
      "Iteration 14, loss = 0.11798562\n",
      "Iteration 15, loss = 0.12365213\n",
      "Training loss did not improve more than tol=0.001000 for two consecutive epochs. Stopping.\n",
      "Iteration 1, loss = 0.59678059\n",
      "Iteration 2, loss = 0.28239009\n",
      "Iteration 3, loss = 0.25255222\n",
      "Iteration 4, loss = 0.23976206\n",
      "Iteration 5, loss = 0.23341016\n",
      "Iteration 6, loss = 0.23464200\n",
      "Iteration 7, loss = 0.22481001\n",
      "Iteration 8, loss = 0.22503910\n",
      "Iteration 9, loss = 0.23014373\n",
      "Iteration 10, loss = 0.22022938\n",
      "Iteration 11, loss = 0.22388843\n",
      "Iteration 12, loss = 0.22175737\n",
      "Iteration 13, loss = 0.21551263\n",
      "Iteration 14, loss = 0.21300380\n",
      "Iteration 15, loss = 0.21545609\n",
      "Iteration 16, loss = 0.21662364\n",
      "Iteration 17, loss = 0.21729959\n",
      "Training loss did not improve more than tol=0.001000 for two consecutive epochs. Stopping.\n",
      "Iteration 1, loss = 0.59751040\n",
      "Iteration 2, loss = 0.28223000\n",
      "Iteration 3, loss = 0.25122512\n",
      "Iteration 4, loss = 0.24395547\n",
      "Iteration 5, loss = 0.22775761\n",
      "Iteration 6, loss = 0.22964384\n",
      "Iteration 7, loss = 0.22294642\n",
      "Iteration 8, loss = 0.31235247\n",
      "Iteration 9, loss = 0.22812512\n",
      "Iteration 10, loss = 0.21462628\n",
      "Iteration 11, loss = 0.21711505\n",
      "Iteration 12, loss = 0.20646063\n",
      "Iteration 13, loss = 0.20796540\n",
      "Iteration 14, loss = 0.20732949\n",
      "Iteration 15, loss = 0.21101604\n",
      "Training loss did not improve more than tol=0.001000 for two consecutive epochs. Stopping.\n",
      "Iteration 1, loss = 0.74414070\n",
      "Iteration 2, loss = 0.43902081\n",
      "Iteration 3, loss = 0.42099907\n",
      "Iteration 4, loss = 0.40884907\n",
      "Iteration 5, loss = 0.40659518\n",
      "Iteration 6, loss = 0.40441208\n",
      "Iteration 7, loss = 0.39737947\n",
      "Iteration 8, loss = 0.39604858\n",
      "Iteration 9, loss = 0.39747407\n",
      "Iteration 10, loss = 0.39455044\n",
      "Iteration 11, loss = 0.39569712\n",
      "Iteration 12, loss = 0.39225225\n",
      "Iteration 13, loss = 0.38958410\n",
      "Iteration 14, loss = 0.39124628\n",
      "Iteration 15, loss = 0.39138665\n",
      "Iteration 16, loss = 0.38740904\n",
      "Iteration 17, loss = 0.38949441\n",
      "Iteration 18, loss = 0.38996878\n",
      "Iteration 19, loss = 0.39191185\n",
      "Training loss did not improve more than tol=0.001000 for two consecutive epochs. Stopping.\n",
      "Iteration 1, loss = 0.74859672\n",
      "Iteration 2, loss = 0.45299819\n",
      "Iteration 3, loss = 0.43331035\n",
      "Iteration 4, loss = 0.42774417\n",
      "Iteration 5, loss = 0.41771318\n",
      "Iteration 6, loss = 0.42078615\n",
      "Iteration 7, loss = 0.41201278\n",
      "Iteration 8, loss = 0.47145422\n",
      "Iteration 9, loss = 0.40732142\n",
      "Iteration 10, loss = 0.41336784\n",
      "Iteration 11, loss = 0.48078964\n",
      "Iteration 12, loss = 0.39914014\n",
      "Iteration 13, loss = 0.39520852\n",
      "Iteration 14, loss = 0.39977903\n",
      "Iteration 15, loss = 0.39661439\n",
      "Iteration 16, loss = 0.40278068\n",
      "Training loss did not improve more than tol=0.001000 for two consecutive epochs. Stopping.\n"
     ]
    },
    {
     "name": "stdout",
     "output_type": "stream",
     "text": [
      "Iteration 1, loss = 1.03256270\n",
      "Iteration 2, loss = 0.72842671\n",
      "Iteration 3, loss = 0.71605976\n",
      "Iteration 4, loss = 0.70583896\n",
      "Iteration 5, loss = 0.70089054\n",
      "Iteration 6, loss = 0.69710461\n",
      "Iteration 7, loss = 0.69119378\n",
      "Iteration 8, loss = 0.69049989\n",
      "Iteration 9, loss = 0.68959520\n",
      "Iteration 10, loss = 0.68762239\n",
      "Iteration 11, loss = 0.68809120\n",
      "Iteration 12, loss = 0.68734886\n",
      "Iteration 13, loss = 0.68266751\n",
      "Iteration 14, loss = 0.68319462\n",
      "Iteration 15, loss = 0.68489453\n",
      "Iteration 16, loss = 0.67910637\n",
      "Iteration 17, loss = 0.67922110\n",
      "Iteration 18, loss = 0.68123298\n",
      "Iteration 19, loss = 0.68119380\n",
      "Training loss did not improve more than tol=0.001000 for two consecutive epochs. Stopping.\n",
      "Iteration 1, loss = 1.03738860\n",
      "Iteration 2, loss = 0.78657867\n",
      "Iteration 3, loss = 0.77423863\n",
      "Iteration 4, loss = 0.77112283\n",
      "Iteration 5, loss = 0.76098319\n",
      "Iteration 6, loss = 0.75647871\n",
      "Iteration 7, loss = 0.75089931\n",
      "Iteration 8, loss = 0.79703258\n",
      "Iteration 9, loss = 0.74521545\n",
      "Iteration 10, loss = 0.74290892\n",
      "Iteration 11, loss = 0.79778631\n",
      "Iteration 12, loss = 0.77299448\n",
      "Iteration 13, loss = 0.73111694\n",
      "Iteration 14, loss = 0.74362174\n",
      "Iteration 15, loss = 0.72604277\n",
      "Iteration 16, loss = 0.74054241\n",
      "Iteration 17, loss = 0.73211760\n",
      "Iteration 18, loss = 0.81133651\n",
      "Training loss did not improve more than tol=0.001000 for two consecutive epochs. Stopping.\n",
      "Iteration 1, loss = 1.70606818\n",
      "Iteration 2, loss = 1.29107590\n",
      "Iteration 3, loss = 1.27595514\n",
      "Iteration 4, loss = 1.26915038\n",
      "Iteration 5, loss = 1.26281907\n",
      "Iteration 6, loss = 1.25487968\n",
      "Iteration 7, loss = 1.25705222\n",
      "Iteration 8, loss = 1.25487547\n",
      "Iteration 9, loss = 1.25096357\n",
      "Iteration 10, loss = 1.25134376\n",
      "Iteration 11, loss = 1.25428163\n",
      "Iteration 12, loss = 1.25151715\n",
      "Training loss did not improve more than tol=0.001000 for two consecutive epochs. Stopping.\n",
      "Iteration 1, loss = 1.71134229\n",
      "Iteration 2, loss = 1.44240372\n",
      "Iteration 3, loss = 1.45772340\n",
      "Iteration 4, loss = 1.45636028\n",
      "Iteration 5, loss = 1.44743739\n",
      "Training loss did not improve more than tol=0.001000 for two consecutive epochs. Stopping.\n",
      "Iteration 1, loss = 0.44808204\n",
      "Iteration 2, loss = 0.26724596\n",
      "Iteration 3, loss = 0.24932442\n",
      "Iteration 4, loss = 0.24285502\n",
      "Iteration 5, loss = 0.23885296\n",
      "Iteration 6, loss = 0.23694357\n",
      "Iteration 7, loss = 0.23764532\n",
      "Iteration 8, loss = 0.23344340\n",
      "Iteration 9, loss = 0.23497239\n",
      "Iteration 10, loss = 0.23063084\n",
      "Iteration 11, loss = 0.22903097\n",
      "Iteration 12, loss = 0.22866823\n",
      "Iteration 13, loss = 0.23114679\n",
      "Iteration 14, loss = 0.23146074\n",
      "Training loss did not improve more than tol=0.001000 for two consecutive epochs. Stopping.\n",
      "Best score: 0.961619047619\n",
      "Best parameters: {'alpha': 0.3, 'activation': 'relu', 'learning_rate_init': 0.01, 'solver': 'adam'}\n"
     ]
    }
   ],
   "source": [
    "from sklearn.neural_network import MLPClassifier\n",
    "\n",
    "from sklearn.model_selection import StratifiedKFold\n",
    "\n",
    "from sklearn.model_selection import GridSearchCV\n",
    "\n",
    "# nn = MLPClassifier(hidden_layer_sizes = (25,25,), solver='sgd', activation = 'logistic',learning_rate_init=0.01,learning_rate='invscaling')\n",
    "nn = MLPClassifier(hidden_layer_sizes=(50, 25), max_iter=200,  verbose=100, tol=1e-3, random_state=1)\n",
    "\n",
    "parameter_grid = {'alpha': [0.1,0.3,1,3,10],\n",
    "                  'activation': ['tanh','relu'],\n",
    "                  'solver': ['adam'] ,\n",
    "                  'learning_rate_init': [0.01]\n",
    "                 }\n",
    "\n",
    "cross_validation = StratifiedKFold(n_splits= 2 )\n",
    "\n",
    "\n",
    "grid_search = GridSearchCV(nn,\n",
    "                           param_grid=parameter_grid,\n",
    "                           cv=cross_validation)\n",
    "\n",
    "\n",
    "grid_search.fit(X_, y)\n",
    "\n",
    "print('Best score: {}'.format(grid_search.best_score_))\n",
    "print('Best parameters: {}'.format(grid_search.best_params_))\n",
    "\n"
   ]
  },
  {
   "cell_type": "code",
   "execution_count": null,
   "metadata": {},
   "outputs": [],
   "source": [
    "# nn.fit(X_[0:30000],y[0:30000])\n",
    "\n",
    "# train_predict = nn.predict(X_)\n",
    "\n",
    "# print(train_predict)\n",
    "\n",
    "# test_predict = nn.predict(pca.transform(images_t))\n",
    "# print(test_predict[10])\n",
    "\n",
    "# print(nn.score(X_[0:30000],y[0:30000]))\n",
    "# print(nn.score(X_[30001:41999],y[30001:41999]))"
   ]
  },
  {
   "cell_type": "code",
   "execution_count": 43,
   "metadata": {},
   "outputs": [
    {
     "data": {
      "text/plain": [
       "array([2, 0, 9, ..., 3, 9, 2])"
      ]
     },
     "execution_count": 43,
     "metadata": {},
     "output_type": "execute_result"
    }
   ],
   "source": [
    "classifier = grid_search.best_estimator_\n",
    "train_predict = classifier.predict(pca.transform(images_t))\n",
    "train_predict"
   ]
  },
  {
   "cell_type": "code",
   "execution_count": 66,
   "metadata": {},
   "outputs": [],
   "source": [
    "# output=[]\n",
    "# for i in range(1,test_predict.shape[0]+1):\n",
    "#     output.append([(i),(test_predict[i-1])])\n",
    "    \n",
    "# # print(output)\n",
    "\n",
    "# # np.insert(output,[0,0],[\"ImageId\", \"Label\"])\n",
    "# print(output)\n",
    "\n",
    "# # output.to_csv(\"trial1.csv\")delimiter=\n",
    "# np.savetxt(\"trial1.csv\",output,delimiter=',', fmt='%d', header='ImageId,Label')\n",
    "\n",
    "df = pd.DataFrame({\n",
    "    'ImageId': pd.Series(range(1,len(train_predict)+1),index=list(range(len(train_predict))),dtype='int32'),\n",
    "    'Label' : pd.Series(train_predict)\n",
    "})\n",
    "df\n",
    "\n",
    "df.to_csv(\"trialNN.csv\",index=False)"
   ]
  },
  {
   "cell_type": "code",
   "execution_count": null,
   "metadata": {
    "collapsed": true
   },
   "outputs": [],
   "source": [
    "fig, axes = plt.subplots(4, 4)\n",
    "# use global min / max to ensure all weights are shown on the same scale\n",
    "vmin, vmax = nn.coefs_[0].min(), nn.coefs_[0].max()\n",
    "for coef, ax in zip(nn.coefs_[0].T, axes.ravel()):\n",
    "    ax.matshow(coef.reshape(28, 28), cmap=plt.cm.gray, vmin=.5 * vmin,\n",
    "               vmax=.5 * vmax)\n",
    "    ax.set_xticks(())\n",
    "    ax.set_yticks(())\n",
    "\n",
    "plt.show()"
   ]
  },
  {
   "cell_type": "code",
   "execution_count": null,
   "metadata": {
    "collapsed": true
   },
   "outputs": [],
   "source": []
  },
  {
   "cell_type": "code",
   "execution_count": null,
   "metadata": {
    "collapsed": true
   },
   "outputs": [],
   "source": []
  }
 ],
 "metadata": {
  "kernelspec": {
   "display_name": "Python 2",
   "language": "python",
   "name": "python2"
  },
  "language_info": {
   "codemirror_mode": {
    "name": "ipython",
    "version": 2
   },
   "file_extension": ".py",
   "mimetype": "text/x-python",
   "name": "python",
   "nbconvert_exporter": "python",
   "pygments_lexer": "ipython2",
   "version": "2.7.13"
  }
 },
 "nbformat": 4,
 "nbformat_minor": 2
}
