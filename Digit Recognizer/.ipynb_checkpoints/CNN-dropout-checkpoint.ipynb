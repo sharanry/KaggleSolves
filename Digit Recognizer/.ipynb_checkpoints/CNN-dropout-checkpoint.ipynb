{
 "cells": [
  {
   "cell_type": "code",
   "execution_count": 1,
   "metadata": {
    "_cell_guid": "16c6b83b-226d-4172-bcaa-f247c7775004",
    "_execution_state": "idle",
    "_uuid": "3552c7e65e19de581dfd90f79a36805a0b447648",
    "collapsed": true
   },
   "outputs": [],
   "source": [
    "# # This Python 3 environment comes with many helpful analytics libraries installed\n",
    "# # It is defined by the kaggle/python docker image: https://github.com/kaggle/docker-python\n",
    "# # For example, here's several helpful packages to load in \n",
    "\n",
    "# import numpy as np # linear algebra\n",
    "# import pandas as pd # data processing, CSV file I/O (e.g. pd.read_csv)\n",
    "\n",
    "# # Input data files are available in the \"../input/\" directory.\n",
    "# # For example, running this (by clicking run or pressing Shift+Enter) will list the files in the input directory\n",
    "\n",
    "# from subprocess import check_output\n",
    "# print(check_output([\"ls\", \"../input\"]).decode(\"utf8\"))\n",
    "\n",
    "# # Any results you write to the current directory are saved as output."
   ]
  },
  {
   "cell_type": "code",
   "execution_count": 2,
   "metadata": {
    "_cell_guid": "6178f72e-c884-42f5-8a70-20cbb7fa365b",
    "_execution_state": "idle",
    "_uuid": "7d5d196cc733ae5c0de27fc1151c570ce9b4cdef"
   },
   "outputs": [],
   "source": [
    "import numpy as np\n",
    "import pandas as pd\n",
    "\n",
    "%matplotlib inline\n",
    "import matplotlib.pyplot as plt\n",
    "import matplotlib.cm as cm\n",
    "\n",
    "import tensorflow as tf\n",
    "\n",
    "\n",
    "import os\n",
    "\n",
    "# to make this notebook's output stable across runs\n",
    "def reset_graph(seed=42):\n",
    "    tf.reset_default_graph()\n",
    "    tf.set_random_seed(seed)\n",
    "    np.random.seed(seed)\n",
    "\n",
    "# To plot pretty figures\n",
    "\n",
    "import matplotlib\n",
    "\n",
    "plt.rcParams['axes.labelsize'] = 14\n",
    "plt.rcParams['xtick.labelsize'] = 12\n",
    "plt.rcParams['ytick.labelsize'] = 12\n",
    "\n",
    "# Where to save the figures\n",
    "PROJECT_ROOT_DIR = \".\"\n",
    "CHAPTER_ID = \"cnn\"\n",
    "\n",
    "def save_fig(fig_id, tight_layout=True):\n",
    "    path = os.path.join(PROJECT_ROOT_DIR, \"images\", CHAPTER_ID, fig_id + \".png\")\n",
    "    print(\"Saving figure\", fig_id)\n",
    "    if tight_layout:\n",
    "        plt.tight_layout()\n",
    "    plt.savefig(path, format='png', dpi=300)\n",
    "    \n",
    "def plot_image(image):\n",
    "    plt.imshow(image, cmap=\"gray\", interpolation=\"nearest\")\n",
    "    plt.axis(\"off\")\n",
    "\n",
    "def plot_color_image(image):\n",
    "    plt.imshow(image.astype(np.uint8),interpolation=\"nearest\")\n",
    "    plt.axis(\"off\")\n",
    "    "
   ]
  },
  {
   "cell_type": "code",
   "execution_count": 3,
   "metadata": {
    "_cell_guid": "42395c95-f264-4ffd-a5f9-990979ebe4c6",
    "_execution_state": "idle",
    "_uuid": "9373c8307227b38d60c3b67b1f51ce6975206022"
   },
   "outputs": [],
   "source": [
    "train = pd.read_csv('train.csv')\n",
    "test = pd.read_csv('test.csv')\n",
    "print(train.shape)"
   ]
  },
  {
   "cell_type": "code",
   "execution_count": 4,
   "metadata": {
    "_cell_guid": "201fb11c-437c-4caf-b2c7-fafc0b1e2644",
    "_execution_state": "idle",
    "_uuid": "42eab6ac20c9aac4ec8f0311b55e1e305597765e"
   },
   "outputs": [],
   "source": [
    "X_train = train.iloc[:,1:].values.astype(np.float32)\n",
    "X_topred = test.values.astype(np.float32)\n",
    "y_train = train.iloc[:,0].values.astype(np.int32).ravel()\n",
    "train_size = X_train.shape[0]\n",
    "train_size"
   ]
  },
  {
   "cell_type": "code",
   "execution_count": 5,
   "metadata": {
    "_cell_guid": "1ebb7666-dbe4-4859-9388-29489bf8210e",
    "_execution_state": "idle",
    "_uuid": "007d94780a9ce7ffcc315706762830efa4fffcd2"
   },
   "outputs": [],
   "source": [
    "from datetime import datetime\n",
    "now = datetime.utcnow().strftime(\"%Y%m%d%H%M%S\")\n",
    "root_logdir = \"tf_logs\"\n",
    "logdir = \"{}/run-{}/\".format(root_logdir, now)\n"
   ]
  },
  {
   "cell_type": "code",
   "execution_count": 6,
   "metadata": {
    "_cell_guid": "e6c678e6-9b3a-433c-8f94-b16a2d97ed38",
    "_execution_state": "idle",
    "_uuid": "90aababcf255ba1fd48f14c7614e82ffa2cd26ba"
   },
   "outputs": [],
   "source": [
    "height = 28\n",
    "width = 28\n",
    "channels =1\n",
    "n_inputs = height * width\n",
    "\n",
    "conv1_fmaps = 32\n",
    "conv1_ksize = 3\n",
    "conv1_stride = 1\n",
    "conv1_pad = \"SAME\"\n",
    "\n",
    "conv2_fmaps = 64\n",
    "conv2_ksize = 3\n",
    "conv2_stride = 2\n",
    "conv2_pad = \"SAME\"\n",
    "\n",
    "pool3_fmaps = conv2_fmaps\n",
    "\n",
    "n_fc1 = 54\n",
    "n_outputs = 10\n",
    "\n",
    "reset_graph()\n",
    "\n",
    "with tf.name_scope(\"inputs\"):\n",
    "    X = tf.placeholder(tf.float32, shape=[None, n_inputs], name=\"X\")\n",
    "    X_reshaped = tf.reshape(X, shape=[-1, height, width, channels])\n",
    "    y = tf.placeholder(tf.int32, shape=[None], name=\"y\")\n",
    "    \n",
    "conv1 = tf.layers.conv2d(X_reshaped, filters=conv1_fmaps,\n",
    "                         kernel_size=conv1_ksize,\n",
    "                         strides = conv1_stride,\n",
    "                         padding=conv1_pad,\n",
    "                         activation=tf.nn.relu,\n",
    "                         name=\"conv1\")\n",
    "\n",
    "conv2 = tf.layers.conv2d(conv1, filters=conv2_fmaps,\n",
    "                         kernel_size=conv2_ksize,\n",
    "                         strides = conv2_stride,\n",
    "                         padding=conv2_pad,\n",
    "                         activation=tf.nn.relu,\n",
    "                         name=\"conv2\")\n",
    "\n",
    "with tf.name_scope(\"pool3\"):\n",
    "    pool3 = tf.nn.max_pool(conv2, ksize=[1,2,2,1], strides=[1,2,2,1], padding=\"VALID\")\n",
    "    pool3_flat = tf.reshape(pool3, shape=[-1, pool3_fmaps*7*7])\n",
    "\n",
    "with tf.name_scope(\"fc1\"):\n",
    "    fc1 = tf.layers.dense(pool3_flat, n_fc1, activation=tf.nn.relu, name=\"fc1\")\n",
    "    \n",
    "with tf.name_scope(\"dropout\"):\n",
    "    dropout = tf.nn.dropout(fc1, keep_prob=0.8, name=\"dropout\")\n",
    "    \n",
    "with tf.name_scope(\"output\"):\n",
    "    logits = tf.layers.dense(dropout, n_outputs, name=\"output\")\n",
    "    Y_proba = tf.nn.softmax(logits, name=\"Y_proba\" )\n",
    "    \n",
    "with tf.name_scope(\"train\"):\n",
    "    xentropy = tf.nn.sparse_softmax_cross_entropy_with_logits(logits=logits,labels=y)\n",
    "    loss = tf.reduce_mean(xentropy)\n",
    "    optimizer = tf.train.AdamOptimizer()\n",
    "    training_op = optimizer.minimize(loss)\n",
    "    \n",
    "with tf.name_scope(\"eval\"):\n",
    "    correct = tf.nn.in_top_k(logits, y, 1)\n",
    "    accuracy = tf.reduce_mean(tf.cast(correct, tf.float32))\n",
    "    \n",
    "with tf.name_scope(\"init_and_save\"):\n",
    "    init = tf.global_variables_initializer()\n",
    "    saver = tf.train.Saver()\n",
    "    \n",
    "predict = tf.argmax(Y_proba,1, name=\"predict\")\n",
    "\n",
    "acc_sum = tf.summary.scalar(\"accuracy_summary\", accuracy)\n",
    "\n",
    "file_writer = tf.summary.FileWriter(logdir, tf.get_default_graph())\n",
    "\n",
    "    "
   ]
  },
  {
   "cell_type": "code",
   "execution_count": null,
   "metadata": {
    "_cell_guid": "59b21306-d1d7-4b8e-b188-50dd1cee83e6",
    "_execution_state": "idle",
    "_uuid": "6b01e80bdd6317c66c09c5787637d5965685ec2c"
   },
   "outputs": [],
   "source": [
    "n_epochs = 100\n",
    "batch_size = 100\n",
    "n_batches = (train_size-2000) // batch_size\n",
    "print(n_batches)\n",
    "\n",
    "def next_batch(X, y, epoch, iteration, batch_size):\n",
    "    np.random.seed(epoch*n_batches + iteration)\n",
    "    indices = np.random.randint(40000, size=batch_size)\n",
    "    X_batch = X[indices]\n",
    "    y_batch = y[indices]\n",
    "    return X_batch, y_batch\n",
    "X_test = X_train[40000:41999]\n",
    "y_test = y_train[40000:41999]\n",
    "    "
   ]
  },
  {
   "cell_type": "code",
   "execution_count": null,
   "metadata": {
    "_cell_guid": "448ad13d-746e-4d18-8299-54786ef53317",
    "_execution_state": "busy",
    "_uuid": "1a8bfadf0ce5a82b77a03693c5881a63afe6b7f2"
   },
   "outputs": [],
   "source": [
    "with tf.Session() as sess:\n",
    "    init.run()\n",
    "    for epoch in range(n_epochs):\n",
    "        for iteration in range(n_batches):\n",
    "            X_batch, y_batch = next_batch(X_train, y_train, epoch, iteration, batch_size)\n",
    "            sess.run(training_op, feed_dict={X: X_batch, y: y_batch})\n",
    "            \n",
    "        acc_train = accuracy.eval(feed_dict={X: X_batch, y: y_batch})\n",
    "        acc_test = accuracy.eval(feed_dict={X: X_test, y: y_test})\n",
    "        acc_sum_text = acc_sum.eval(feed_dict={X: X_test, y: y_test})\n",
    "        file_writer.write_summary(acc_sum_txt, epoch)\n",
    "        print(epoch, \"Train accuracy:\", acc_train, \"Test accuracy:\", acc_test)\n",
    "\n",
    "        save_path = saver.save(sess, \"./CNN-droput.ckpt\")\n",
    "file_writer.close()"
   ]
  },
  {
   "cell_type": "code",
   "execution_count": null,
   "metadata": {
    "_cell_guid": "5a7fb22e-6e22-4465-a610-61a38ae4beae",
    "_execution_state": "busy",
    "_uuid": "36da731516027ff3345479126ee1d760c84ac557"
   },
   "outputs": [],
   "source": [
    "test = pd.read_csv('test.csv')\n",
    "X_test = test.values\n",
    "predicted_lables = np.zeros(28000)\n",
    "with tf.Session() as sess:\n",
    "    saver.restore(sess,'./CNN-dropout.ckpt')\n",
    "#     y_pred = tf.arg_max(logits.eval(feed_dict={X:X_test}), dimension=1)\n",
    "    for i in range(0,28000//100):\n",
    "        predicted_lables[i*100 : (i+1)*100] = predict.eval(feed_dict={X: X_test[i*100 : (i+1)*100]} )\n",
    "        print(\".\", end=\"\")"
   ]
  },
  {
   "cell_type": "code",
   "execution_count": null,
   "metadata": {
    "_cell_guid": "94c7a7f6-7b87-4411-b0f4-69af8eb5c9e5",
    "_execution_state": "busy",
    "_uuid": "25aa0d851e872f93c8b3319fd7aca28bcee66eca"
   },
   "outputs": [],
   "source": [
    "df = pd.DataFrame({\n",
    "    'ImageId': pd.Series(range(1,len(predicted_lables)+1),index=list(range(len(predicted_lables))),dtype='int32'),\n",
    "    'Label' : pd.Series(predicted_lables, dtype='int32')\n",
    "})\n",
    "df\n",
    "\n",
    "df.to_csv(\"cnn-dropout.csv\",index=False)"
   ]
  }
 ],
 "metadata": {
  "kernelspec": {
   "display_name": "Tensorflow GPU",
   "language": "python",
   "name": "tfgpu"
  },
  "language_info": {
   "codemirror_mode": {
    "name": "ipython",
    "version": 2
   },
   "file_extension": ".py",
   "mimetype": "text/x-python",
   "name": "python",
   "nbconvert_exporter": "python",
   "pygments_lexer": "ipython2",
   "version": "2.7.13"
  }
 },
 "nbformat": 4,
 "nbformat_minor": 1
}
