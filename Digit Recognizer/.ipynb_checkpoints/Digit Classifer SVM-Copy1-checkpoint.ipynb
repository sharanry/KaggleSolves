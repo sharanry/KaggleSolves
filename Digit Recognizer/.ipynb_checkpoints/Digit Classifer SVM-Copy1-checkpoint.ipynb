{
 "cells": [
  {
   "cell_type": "code",
   "execution_count": null,
   "metadata": {
    "collapsed": true
   },
   "outputs": [],
   "source": [
    "import matplotlib.pyplot as plt\n",
    "import numpy as np \n",
    "import pandas as pd\n",
    "import matplotlib.cm as cm\n",
    "%matplotlib inline  \n",
    "\n",
    "\n",
    "\n",
    "# image number to output\n",
    "IMAGE_TO_DISPLAY = 20212"
   ]
  },
  {
   "cell_type": "markdown",
   "metadata": {},
   "source": [
    "Accessing the data."
   ]
  },
  {
   "cell_type": "code",
   "execution_count": null,
   "metadata": {
    "collapsed": true,
    "scrolled": true
   },
   "outputs": [],
   "source": [
    "data = pd.read_csv('train.csv')\n",
    "data_t = pd.read_csv('test.csv')\n",
    "\n",
    "print('data({0[0]},{0[1]})'.format(data.shape))\n",
    "print (data.head())"
   ]
  },
  {
   "cell_type": "code",
   "execution_count": null,
   "metadata": {
    "collapsed": true
   },
   "outputs": [],
   "source": [
    "images = data.iloc[:,1:].values\n",
    "images_t = data_t.iloc[:,:].values \n",
    "images = images.astype(np.float)\n",
    "images_t = images_t.astype(np.float)\n",
    "images = np.multiply(images, 1.0 / 255.0)\n",
    "images_t = np.multiply(images_t, 1.0 / 255.0)\n",
    "print('images({0[0]},{0[1]})'.format(images.shape))\n",
    "print('images_t({0[0]},{0[1]})'.format(images_t.shape))\n"
   ]
  },
  {
   "cell_type": "code",
   "execution_count": null,
   "metadata": {
    "collapsed": true
   },
   "outputs": [],
   "source": [
    "# display image\n",
    "def display(img):\n",
    "    \n",
    "    # (784) => (28,28)\n",
    "    one_image = img.reshape(28,28)\n",
    "    \n",
    "    plt.axis('off')\n",
    "    plt.imshow(one_image, cmap=cm.binary)\n",
    "\n",
    "# output image     \n",
    "display(images_t[10])"
   ]
  },
  {
   "cell_type": "code",
   "execution_count": null,
   "metadata": {
    "collapsed": true
   },
   "outputs": [],
   "source": [
    "X = images\n",
    "y = data.iloc[:,0].values\n",
    "print(y.shape[0])"
   ]
  },
  {
   "cell_type": "code",
   "execution_count": null,
   "metadata": {
    "collapsed": true
   },
   "outputs": [],
   "source": [
    "from sklearn.neural_network import MLPClassifier\n",
    "\n",
    "# nn = MLPClassifier(hidden_layer_sizes = (25,25,), solver='sgd', activation = 'logistic',learning_rate_init=0.01,learning_rate='invscaling')\n",
    "nn = MLPClassifier(hidden_layer_sizes=(100, 100), max_iter=400, alpha=1e-3, solver='sgd', verbose=True, tol=1e-3, random_state=1)\n",
    "\n",
    "nn.fit(X,y)\n",
    "\n",
    "train_predict = nn.predict(X)\n",
    "\n",
    "print(train_predict)\n",
    "\n",
    "test_predict = nn.predict(images_t)\n",
    "print(test_predict[10])\n",
    "\n",
    "print(nn.score(X,y))"
   ]
  },
  {
   "cell_type": "code",
   "execution_count": null,
   "metadata": {
    "collapsed": true
   },
   "outputs": [],
   "source": [
    "output=[]\n",
    "for i in range(1,test_predict.shape[0]+1):\n",
    "    output.append([(i),(test_predict[i-1])])\n",
    "    \n",
    "# print(output)\n",
    "\n",
    "# np.insert(output,[0,0],[\"ImageId\", \"Label\"])\n",
    "print(output)\n",
    "\n",
    "# output.to_csv(\"trial1.csv\")delimiter=\n",
    "np.savetxt(\"trial1.csv\",output,delimiter=',', fmt='%d', header='\\b\\bImageId,Label')"
   ]
  },
  {
   "cell_type": "code",
   "execution_count": null,
   "metadata": {
    "collapsed": true
   },
   "outputs": [],
   "source": [
    "fig, axes = plt.subplots(4, 4)\n",
    "# use global min / max to ensure all weights are shown on the same scale\n",
    "vmin, vmax = nn.coefs_[0].min(), nn.coefs_[0].max()\n",
    "for coef, ax in zip(nn.coefs_[0].T, axes.ravel()):\n",
    "    ax.matshow(coef.reshape(28, 28), cmap=plt.cm.gray, vmin=.5 * vmin,\n",
    "               vmax=.5 * vmax)\n",
    "    ax.set_xticks(())\n",
    "    ax.set_yticks(())\n",
    "\n",
    "plt.show()"
   ]
  },
  {
   "cell_type": "code",
   "execution_count": null,
   "metadata": {
    "collapsed": true
   },
   "outputs": [],
   "source": []
  }
 ],
 "metadata": {
  "kernelspec": {
   "display_name": "Python 2",
   "language": "python",
   "name": "python2"
  },
  "language_info": {
   "codemirror_mode": {
    "name": "ipython",
    "version": 2
   },
   "file_extension": ".py",
   "mimetype": "text/x-python",
   "name": "python",
   "nbconvert_exporter": "python",
   "pygments_lexer": "ipython2",
   "version": "2.7.13"
  }
 },
 "nbformat": 4,
 "nbformat_minor": 2
}
